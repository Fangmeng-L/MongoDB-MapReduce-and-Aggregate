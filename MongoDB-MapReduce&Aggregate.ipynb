{
 "cells": [
  {
   "cell_type": "code",
   "execution_count": 2,
   "id": "1d972a7b",
   "metadata": {},
   "outputs": [],
   "source": [
    "from pymongo import MongoClient\n",
    "import json"
   ]
  },
  {
   "cell_type": "code",
   "execution_count": 3,
   "id": "22fb13cf",
   "metadata": {},
   "outputs": [],
   "source": [
    "client = MongoClient(\"mongodb://localhost/\")\n",
    "db = client.admin"
   ]
  },
  {
   "cell_type": "code",
   "execution_count": 4,
   "id": "24f1ee1f",
   "metadata": {},
   "outputs": [],
   "source": [
    "# Create database \n",
    "db = client[\"amazon\"]\n",
    "   \n",
    "# Created or Switched to collection \n",
    "Collection = db[\"reviews\"]"
   ]
  },
  {
   "cell_type": "code",
   "execution_count": 10,
   "id": "aea1a976",
   "metadata": {},
   "outputs": [],
   "source": [
    "file_data = []\n",
    "file = open('reviews_electronics.16.json', 'r')\n",
    "for line in file:\n",
    "    file_data.append(json.loads(line))\n",
    "file.close()"
   ]
  },
  {
   "cell_type": "code",
   "execution_count": 11,
   "id": "f2fd66d4",
   "metadata": {},
   "outputs": [
    {
     "data": {
      "text/plain": [
       "<pymongo.results.InsertManyResult at 0x1d62d27e2c0>"
      ]
     },
     "execution_count": 11,
     "metadata": {},
     "output_type": "execute_result"
    }
   ],
   "source": [
    "db.reviews.insert_many(file_data)"
   ]
  },
  {
   "cell_type": "markdown",
   "id": "7bf3f7a3",
   "metadata": {},
   "source": [
    "## Use MongoDB's map reduce function to build a new collection \"avg_scores\" that averages review scores by product (\"asin\"). Print the first 100 entires of \"avg_scores\" to screen."
   ]
  },
  {
   "cell_type": "code",
   "execution_count": 17,
   "id": "8f75257e",
   "metadata": {},
   "outputs": [],
   "source": [
    "import bson"
   ]
  },
  {
   "cell_type": "code",
   "execution_count": 20,
   "id": "ac4dbe2e",
   "metadata": {},
   "outputs": [
    {
     "data": {
      "text/plain": [
       "Collection(Database(MongoClient(host=['localhost:27017'], document_class=dict, tz_aware=False, connect=True), 'amazon'), 'map_reduce_example')"
      ]
     },
     "execution_count": 20,
     "metadata": {},
     "output_type": "execute_result"
    }
   ],
   "source": [
    "mapFunction1 = bson.Code('''function() {\n",
    "   emit(this.asin, this.overall);\n",
    "}''')\n",
    "\n",
    "reduceFunction1 = bson.Code('''function(keyasin, valuesoverall) {\n",
    "   return Array.avg(valuesoverall);\n",
    "}''')\n",
    "\n",
    "db.reviews.map_reduce(\n",
    "   mapFunction1,\n",
    "   reduceFunction1,\n",
    "   out = \"map_reduce_example\"\n",
    ")\n"
   ]
  },
  {
   "cell_type": "code",
   "execution_count": 22,
   "id": "b2183f41",
   "metadata": {},
   "outputs": [
    {
     "data": {
      "text/plain": [
       "[{'_id': 'B00E59WI7U', 'value': 5.0},\n",
       " {'_id': 'B00EWHMAI2', 'value': 4.571428571428571},\n",
       " {'_id': 'B00FP0S3SQ', 'value': 4.0},\n",
       " {'_id': 'B00GRZIF0O', 'value': 1.0},\n",
       " {'_id': 'B00EFLCEN6', 'value': 2.5},\n",
       " {'_id': 'B00KJJW36G', 'value': 4.454545454545454},\n",
       " {'_id': 'B00GGM6RB2', 'value': 3.8666666666666667},\n",
       " {'_id': 'B00G5TU4BK', 'value': 5.0},\n",
       " {'_id': 'B00FZKOEOS', 'value': 5.0},\n",
       " {'_id': 'B00ESLEAFI', 'value': 4.159420289855072},\n",
       " {'_id': 'B00EODJZ8C', 'value': 4.333333333333333},\n",
       " {'_id': 'B00ESMO37C', 'value': 4.0},\n",
       " {'_id': 'B00EU7YGG8', 'value': 1.0},\n",
       " {'_id': 'B00K0OBEE2', 'value': 3.623931623931624},\n",
       " {'_id': 'B00HUESTG6', 'value': 2.0},\n",
       " {'_id': 'B00FYYX7LG', 'value': 5.0},\n",
       " {'_id': 'B00K301TOI', 'value': 5.0},\n",
       " {'_id': 'B00GZMJ5SA', 'value': 5.0},\n",
       " {'_id': 'B00FZMIPDM', 'value': 4.5},\n",
       " {'_id': 'B00GGOXVKK', 'value': 3.5714285714285716},\n",
       " {'_id': 'B00GSLIW1Y', 'value': 5.0},\n",
       " {'_id': 'B00GOJWQ08', 'value': 4.0},\n",
       " {'_id': 'B00H7WGD9Q', 'value': 5.0},\n",
       " {'_id': 'B00GXFDCAQ', 'value': 4.5},\n",
       " {'_id': 'B00EA6S1Z6', 'value': 1.0},\n",
       " {'_id': 'B00F0FYNTY', 'value': 4.5},\n",
       " {'_id': 'B00F70XYGK', 'value': 4.333333333333333},\n",
       " {'_id': 'B00F2O2494', 'value': 4.0},\n",
       " {'_id': 'B00FFZ7X8C', 'value': 3.5714285714285716},\n",
       " {'_id': 'B00GN5K650', 'value': 4.857142857142857},\n",
       " {'_id': 'B00H4MF75A', 'value': 5.0},\n",
       " {'_id': 'B00HD6JTWY', 'value': 4.666666666666667},\n",
       " {'_id': 'B00GFM2MKI', 'value': 3.0},\n",
       " {'_id': 'B00EHA7BF6', 'value': 4.0},\n",
       " {'_id': 'B00ERZHM6O', 'value': 5.0},\n",
       " {'_id': 'B00F04XGIE', 'value': 5.0},\n",
       " {'_id': 'B00F42M26Y', 'value': 5.0},\n",
       " {'_id': 'B00ED94IDE', 'value': 3.6666666666666665},\n",
       " {'_id': 'B00H49NYWG', 'value': 2.5},\n",
       " {'_id': 'B00IFWKONI', 'value': 2.0},\n",
       " {'_id': 'B00EN8LQE4', 'value': 4.0},\n",
       " {'_id': 'B00GD84UFE', 'value': 4.333333333333333},\n",
       " {'_id': 'B00GLL42AG', 'value': 3.857142857142857},\n",
       " {'_id': 'B00I2XZSOU', 'value': 4.5},\n",
       " {'_id': 'B00EON410E', 'value': 2.0},\n",
       " {'_id': 'B00HGE3CZS', 'value': 4.0},\n",
       " {'_id': 'B00I3W1G9G', 'value': 4.0},\n",
       " {'_id': 'B00IOS19E6', 'value': 4.5},\n",
       " {'_id': 'B00EXUG8BS', 'value': 4.271028037383178},\n",
       " {'_id': 'B00EPWUDJM', 'value': 3.5},\n",
       " {'_id': 'B00EB3N0VS', 'value': 5.0},\n",
       " {'_id': 'B00EZJXAZY', 'value': 3.0},\n",
       " {'_id': 'B00F8529AQ', 'value': 5.0},\n",
       " {'_id': 'B00F8FEI3W', 'value': 5.0},\n",
       " {'_id': 'B00ETAGBLY', 'value': 3.0},\n",
       " {'_id': 'B00FH7E1EC', 'value': 5.0},\n",
       " {'_id': 'B00FRMAOIO', 'value': 3.739795918367347},\n",
       " {'_id': 'B00HFMUBYG', 'value': 4.3},\n",
       " {'_id': 'B00I7MT1SK', 'value': 5.0},\n",
       " {'_id': 'B00F9IDX3E', 'value': 3.0},\n",
       " {'_id': 'B00IT6RAX2', 'value': 5.0},\n",
       " {'_id': 'B00IF8J5T6', 'value': 3.0},\n",
       " {'_id': 'B00HAME994', 'value': 5.0},\n",
       " {'_id': 'B00EDMJGLK', 'value': 3.0},\n",
       " {'_id': 'B00J0Q6PMC', 'value': 5.0},\n",
       " {'_id': 'B00HRLSQTC', 'value': 3.761904761904762},\n",
       " {'_id': 'B00IZN28X6', 'value': 5.0},\n",
       " {'_id': 'B00GVXBMYI', 'value': 3.0},\n",
       " {'_id': 'B00G5I02DQ', 'value': 2.5},\n",
       " {'_id': 'B00J2FD6JQ', 'value': 5.0},\n",
       " {'_id': 'B00JAKTNRW', 'value': 5.0},\n",
       " {'_id': 'B00G88RTSY', 'value': 4.0},\n",
       " {'_id': 'B00GD45DHC', 'value': 3.5},\n",
       " {'_id': 'B00HCNL7OG', 'value': 5.0},\n",
       " {'_id': 'B00KBX01PU', 'value': 3.0},\n",
       " {'_id': 'B00EKR81DC', 'value': 5.0},\n",
       " {'_id': 'B00EJZOO1I', 'value': 5.0},\n",
       " {'_id': 'B00E4Y4NHE', 'value': 4.0},\n",
       " {'_id': 'B00IBV9MPO', 'value': 3.0},\n",
       " {'_id': 'B00HKVFCOG', 'value': 5.0},\n",
       " {'_id': 'B00ENVSUUO', 'value': 2.1333333333333333},\n",
       " {'_id': 'B00FMSG7G6', 'value': 5.0},\n",
       " {'_id': 'B00G1FF6IE', 'value': 3.3333333333333335},\n",
       " {'_id': 'B00F6CCBAO', 'value': 4.333333333333333},\n",
       " {'_id': 'B00EDEG3UU', 'value': 5.0},\n",
       " {'_id': 'B00HQSB24C', 'value': 4.0},\n",
       " {'_id': 'B00I8V1W1O', 'value': 5.0},\n",
       " {'_id': 'B00HT5VLDY', 'value': 4.5},\n",
       " {'_id': 'B00JQHYECI', 'value': 5.0},\n",
       " {'_id': 'B00F1CLD4O', 'value': 2.0},\n",
       " {'_id': 'B00EIAFREW', 'value': 1.0},\n",
       " {'_id': 'B00H3E51LO', 'value': 1.0},\n",
       " {'_id': 'B00GZ8BV6I', 'value': 1.0},\n",
       " {'_id': 'B00IIVYA0Y', 'value': 3.5},\n",
       " {'_id': 'B00E4RZQM2', 'value': 2.6},\n",
       " {'_id': 'B00IU04N64', 'value': 5.0},\n",
       " {'_id': 'B00JA5R6NK', 'value': 5.0},\n",
       " {'_id': 'B00E65H5MQ', 'value': 5.0},\n",
       " {'_id': 'B00FKEZ7DQ', 'value': 5.0},\n",
       " {'_id': 'B00I8UHF7A', 'value': 5.0}]"
      ]
     },
     "execution_count": 22,
     "metadata": {},
     "output_type": "execute_result"
    }
   ],
   "source": [
    "list(db.map_reduce_example.find().limit(100))"
   ]
  },
  {
   "cell_type": "markdown",
   "id": "afcfb743",
   "metadata": {},
   "source": [
    "## Use MongoDB's aggregate function to build a new collection \"weighted_avg_scores\" that averages review scores by product (\"asin\"), weighted by the number of votes + 1 (the second number + 1). Print the first 100 entires of \"weighted_avg_scores\" to screen."
   ]
  },
  {
   "cell_type": "code",
   "execution_count": 34,
   "id": "deb4b899",
   "metadata": {},
   "outputs": [],
   "source": [
    "a=list(db.reviews.find({}, {\"helpful\":1, \"_id\":0}))"
   ]
  },
  {
   "cell_type": "code",
   "execution_count": 44,
   "id": "801a6824",
   "metadata": {},
   "outputs": [
    {
     "data": {
      "text/plain": [
       "<pymongo.results.InsertManyResult at 0x1d650837a00>"
      ]
     },
     "execution_count": 44,
     "metadata": {},
     "output_type": "execute_result"
    }
   ],
   "source": [
    "db.reviews2.insert_many(list(db.reviews.find()))"
   ]
  },
  {
   "cell_type": "code",
   "execution_count": 51,
   "id": "8963b7fb",
   "metadata": {},
   "outputs": [],
   "source": [
    "i=0\n",
    "for res in db.reviews2.find():\n",
    "    db.reviews2.update_one(res, {'$set':{'votes':a[i][\"helpful\"][1]+1}})\n",
    "    i+=1"
   ]
  },
  {
   "cell_type": "code",
   "execution_count": 55,
   "id": "e7ca75dd",
   "metadata": {},
   "outputs": [
    {
     "data": {
      "text/plain": [
       "<pymongo.command_cursor.CommandCursor at 0x1d6505f4310>"
      ]
     },
     "execution_count": 55,
     "metadata": {},
     "output_type": "execute_result"
    }
   ],
   "source": [
    "db.reviews2.aggregate([{\n",
    "  \"$group\" : {\n",
    "     \"_id\" : '$asin',\n",
    "     \"numerator\": { \"$sum\": { \"$multiply\": [ \"$overall\", \"$votes\" ] } },\n",
    "     \"denominator\": { \"$sum\": \"$votes\" }\n",
    "  }\n",
    "}, {\n",
    "  \"$project\": {\n",
    "    \"average\": { \"$divide\": [ \"$numerator\", \"$denominator\" ] }\n",
    "  }\n",
    "}, { \n",
    "    \"$out\": \"weighted_avg_scores\" }\n",
    "])"
   ]
  },
  {
   "cell_type": "code",
   "execution_count": 57,
   "id": "aded1128",
   "metadata": {},
   "outputs": [
    {
     "data": {
      "text/plain": [
       "[{'_id': 'B00IHUWW06', 'average': 3.0},\n",
       " {'_id': 'B00ELPIWIC', 'average': 4.14453125},\n",
       " {'_id': 'B00IFYUZ5I', 'average': 4.0},\n",
       " {'_id': 'B00HQPF7PU', 'average': 4.714285714285714},\n",
       " {'_id': 'B00KSV87W4', 'average': 5.0},\n",
       " {'_id': 'B00EPMOGPE', 'average': 2.7058823529411766},\n",
       " {'_id': 'B00ESCCO8M', 'average': 5.0},\n",
       " {'_id': 'B00EZ7NRQ8', 'average': 1.0},\n",
       " {'_id': 'B00GYOT8BS', 'average': 5.0},\n",
       " {'_id': 'B00HZ5JTS2', 'average': 5.0},\n",
       " {'_id': 'B00EPY0JD0', 'average': 4.25},\n",
       " {'_id': 'B00JA7MDFE', 'average': 1.0},\n",
       " {'_id': 'B00F19Q8ME', 'average': 4.371428571428571},\n",
       " {'_id': 'B00J2CCCJE', 'average': 4.2},\n",
       " {'_id': 'B00EA0VP7S', 'average': 4.333333333333333},\n",
       " {'_id': 'B00EYW28AU', 'average': 5.0},\n",
       " {'_id': 'B00KR216UE', 'average': 5.0},\n",
       " {'_id': 'B00GCQAT84', 'average': 5.0},\n",
       " {'_id': 'B00ESR0U2E', 'average': 4.666666666666667},\n",
       " {'_id': 'B00FN9CJFM', 'average': 4.0},\n",
       " {'_id': 'B00FY81YL2', 'average': 5.0},\n",
       " {'_id': 'B00FQT8T8U', 'average': 1.0},\n",
       " {'_id': 'B00GAGMWL8', 'average': 3.675675675675676},\n",
       " {'_id': 'B00KEM456Y', 'average': 2.0},\n",
       " {'_id': 'B00FY7N5R4', 'average': 3.857142857142857},\n",
       " {'_id': 'B00E8B9EHM', 'average': 1.0},\n",
       " {'_id': 'B00FKVVPHG', 'average': 2.0},\n",
       " {'_id': 'B00HJ0K4BY', 'average': 3.0},\n",
       " {'_id': 'B00IFH5V22', 'average': 5.0},\n",
       " {'_id': 'B00HEATEQA', 'average': 5.0},\n",
       " {'_id': 'B00GLNXEQM', 'average': 5.0},\n",
       " {'_id': 'B00EC5J2GW', 'average': 4.75},\n",
       " {'_id': 'B00ETB95B6', 'average': 3.5625},\n",
       " {'_id': 'B00H0LJPVW', 'average': 5.0},\n",
       " {'_id': 'B00I3RLT48', 'average': 1.2},\n",
       " {'_id': 'B00E964RQO', 'average': 4.461538461538462},\n",
       " {'_id': 'B00EU7HRXW', 'average': 1.0},\n",
       " {'_id': 'B00F2O75X4', 'average': 5.0},\n",
       " {'_id': 'B00FP4U01A', 'average': 1.0},\n",
       " {'_id': 'B00FASC7Z8', 'average': 3.0},\n",
       " {'_id': 'B00FDULQZK', 'average': 5.0},\n",
       " {'_id': 'B00E4W873C', 'average': 5.0},\n",
       " {'_id': 'B00EA18XTA', 'average': 1.0},\n",
       " {'_id': 'B00G71AK2O', 'average': 3.0},\n",
       " {'_id': 'B00HWXZDUU', 'average': 3.111111111111111},\n",
       " {'_id': 'B00H5ISK48', 'average': 4.826086956521739},\n",
       " {'_id': 'B00HR3G1EW', 'average': 5.0},\n",
       " {'_id': 'B00H7JKDO0', 'average': 4.75},\n",
       " {'_id': 'B00EN1QPVU', 'average': 2.0},\n",
       " {'_id': 'B00FYGINFO', 'average': 5.0},\n",
       " {'_id': 'B00GUMEUI0', 'average': 5.0},\n",
       " {'_id': 'B00ENH8YBI', 'average': 3.8},\n",
       " {'_id': 'B00FM8DTJ4', 'average': 5.0},\n",
       " {'_id': 'B00FW01J8A', 'average': 2.0},\n",
       " {'_id': 'B00HMCFPLI', 'average': 4.619047619047619},\n",
       " {'_id': 'B00JJ3SQRI', 'average': 3.493333333333333},\n",
       " {'_id': 'B00G4H2YFM', 'average': 5.0},\n",
       " {'_id': 'B00H23TNWE', 'average': 4.4},\n",
       " {'_id': 'B00GBTQS2S', 'average': 2.5},\n",
       " {'_id': 'B00E657DAA', 'average': 3.75625},\n",
       " {'_id': 'B00EBTHEE6', 'average': 5.0},\n",
       " {'_id': 'B00EQABRIE', 'average': 1.0},\n",
       " {'_id': 'B00FQWCTRY', 'average': 5.0},\n",
       " {'_id': 'B00G24WXNK', 'average': 4.538461538461538},\n",
       " {'_id': 'B00HNYSLN4', 'average': 3.473684210526316},\n",
       " {'_id': 'B00HS7SYC4', 'average': 4.0476190476190474},\n",
       " {'_id': 'B00I7DU0TI', 'average': 5.0},\n",
       " {'_id': 'B00ET5WQWW', 'average': 5.0},\n",
       " {'_id': 'B00GK7K156', 'average': 4.333333333333333},\n",
       " {'_id': 'B00GI69A9C', 'average': 4.625},\n",
       " {'_id': 'B00EZ4XQSA', 'average': 1.8},\n",
       " {'_id': 'B00FGO6Y0K', 'average': 3.75},\n",
       " {'_id': 'B00G60ULBQ', 'average': 5.0},\n",
       " {'_id': 'B00EIC92AK', 'average': 2.0},\n",
       " {'_id': 'B00GCDUFVS', 'average': 5.0},\n",
       " {'_id': 'B00GYCJYYQ', 'average': 5.0},\n",
       " {'_id': 'B00IGJ5LX8', 'average': 5.0},\n",
       " {'_id': 'B00JGGUZRC', 'average': 4.8},\n",
       " {'_id': 'B00EGS8P7C', 'average': 1.0},\n",
       " {'_id': 'B00F11MIMQ', 'average': 2.0},\n",
       " {'_id': 'B00GDZ3S0K', 'average': 1.0},\n",
       " {'_id': 'B00E58QM6Y', 'average': 5.0},\n",
       " {'_id': 'B00G5UVGVG', 'average': 5.0},\n",
       " {'_id': 'B00I9NNGY2', 'average': 5.0},\n",
       " {'_id': 'B00HRS9QHQ', 'average': 5.0},\n",
       " {'_id': 'B00IOVPVRE', 'average': 5.0},\n",
       " {'_id': 'B00GAARAP2', 'average': 2.6666666666666665},\n",
       " {'_id': 'B00IDHK5KM', 'average': 5.0},\n",
       " {'_id': 'B00GNTXUBS', 'average': 5.0},\n",
       " {'_id': 'B00EB1AE0K', 'average': 3.3333333333333335},\n",
       " {'_id': 'B00GYZHK3U', 'average': 5.0},\n",
       " {'_id': 'B00G2HOP0G', 'average': 3.5},\n",
       " {'_id': 'B00G23HF7U', 'average': 5.0},\n",
       " {'_id': 'B00J8D0N7K', 'average': 2.0},\n",
       " {'_id': 'B00JIWMCR0', 'average': 4.2},\n",
       " {'_id': 'B00GRMZAE6', 'average': 5.0},\n",
       " {'_id': 'B00J357DGW', 'average': 3.0},\n",
       " {'_id': 'B00JKE69L6', 'average': 3.6666666666666665},\n",
       " {'_id': 'B00EO2GFSQ', 'average': 4.5},\n",
       " {'_id': 'B00F1HN71Q', 'average': 3.0}]"
      ]
     },
     "execution_count": 57,
     "metadata": {},
     "output_type": "execute_result"
    }
   ],
   "source": [
    "list(db.weighted_avg_scores.find().limit(100))"
   ]
  }
 ],
 "metadata": {
  "kernelspec": {
   "display_name": "Python 3 (ipykernel)",
   "language": "python",
   "name": "python3"
  },
  "language_info": {
   "codemirror_mode": {
    "name": "ipython",
    "version": 3
   },
   "file_extension": ".py",
   "mimetype": "text/x-python",
   "name": "python",
   "nbconvert_exporter": "python",
   "pygments_lexer": "ipython3",
   "version": "3.8.8"
  }
 },
 "nbformat": 4,
 "nbformat_minor": 5
}
